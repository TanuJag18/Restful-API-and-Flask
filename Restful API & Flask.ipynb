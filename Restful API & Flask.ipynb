{
 "cells": [
  {
   "cell_type": "code",
   "execution_count": null,
   "id": "b53dc3c9-8ff8-467f-8b43-8d3174d2d368",
   "metadata": {},
   "outputs": [],
   "source": [
    "#Theory Question"
   ]
  },
  {
   "cell_type": "code",
   "execution_count": null,
   "id": "b7fc32a5-8cb3-462c-9dc2-499577e25df0",
   "metadata": {},
   "outputs": [],
   "source": [
    "#Q1: What is a RESTful API\n",
    "#Ans:A RESTful API (Representational State Transfer API) is a web service that follows REST principles, allowing communication between clients and servers using standard HTTP methods (GET, POST, PUT, DELETE)"
   ]
  },
  {
   "cell_type": "code",
   "execution_count": null,
   "id": "7be18dfe-632a-4a5e-a0b7-f36bec262a9f",
   "metadata": {},
   "outputs": [],
   "source": [
    "#Q2. Explain the concept of API specification\n",
    "#Ans: An API specification defines the structure, endpoints, request/response formats, and rules for how an API should function."
   ]
  },
  {
   "cell_type": "code",
   "execution_count": null,
   "id": "168541e5-41c4-475a-8acb-ac1b501ac20f",
   "metadata": {},
   "outputs": [],
   "source": [
    "#Q3.What is Flask, and why is it popular for building APIs\n",
    "#Ans: Flask is a lightweight Python web framework popular for building APIs due to its simplicity, flexibility, and minimalistic design, allowing rapid development."
   ]
  },
  {
   "cell_type": "code",
   "execution_count": null,
   "id": "42e457e9-05a7-4311-9dee-6b8b2cbccb87",
   "metadata": {},
   "outputs": [],
   "source": [
    "#Q4. What is routing in Flask\n",
    "#Ans: In Flask, routing maps specific URL paths to Python functions. You define these mappings using decorators like @app.route('/path') above your function."
   ]
  },
  {
   "cell_type": "code",
   "execution_count": null,
   "id": "8a015af8-6d73-4f07-83a9-03ae288933aa",
   "metadata": {},
   "outputs": [],
   "source": [
    "#Q5.How do you create a simple Flask application\n",
    "#Ans: \n",
    "from flask import Flask\n",
    "app = Flask(__name__)"
   ]
  },
  {
   "cell_type": "code",
   "execution_count": null,
   "id": "af4d4c46-5cb3-47ee-a834-a29c435ba5c2",
   "metadata": {},
   "outputs": [],
   "source": [
    "#Q6. What are HTTP methods used in RESTful APIs\n",
    "#Ans: The most common HTTP methods in RESTful APIs are GET to retrieve data and POST to create new resources. Additionally, PUT is used to update existing resources, and DELETE is used to remove them."
   ]
  },
  {
   "cell_type": "code",
   "execution_count": null,
   "id": "062781ea-b95d-4151-bcdb-b9bd557472b9",
   "metadata": {},
   "outputs": [],
   "source": [
    "#Q7. What is the purpose of the @app.route() decorator in Flask\n",
    "#Ans: The @app.route() decorator in Flask is used to bind a specific URL path to a Python function. When a client makes a request to that URL, the decorated function is executed to handle the request."
   ]
  },
  {
   "cell_type": "code",
   "execution_count": null,
   "id": "c907bea4-819f-45f9-98f4-c8bbcf8e8f85",
   "metadata": {},
   "outputs": [],
   "source": [
    "#Q8.  What is the difference between GET and POST HTTP methods\n",
    "#Ans: GET is used to request data from a server, typically without modifying its state, and its parameters are usually visible in the URL\n",
    "#POST is used to send data to the server to create or update resources, with data typically sent in the request body for better security and larger data capacity."
   ]
  },
  {
   "cell_type": "code",
   "execution_count": null,
   "id": "3a3fa303-f626-44df-9a55-2ff91683d725",
   "metadata": {},
   "outputs": [],
   "source": [
    "#Q9. How do you handle errors in Flask APIs\n",
    "#Ans: You can handle errors in Flask APIs using error handlers decorated with @app.errorhandler(ErrorCode) to define custom responses for specific HTTP error codes. "
   ]
  },
  {
   "cell_type": "code",
   "execution_count": null,
   "id": "9f33f1c0-0bda-4c3a-bef8-f3c40c9bc03e",
   "metadata": {},
   "outputs": [],
   "source": [
    "#Q10. How do you connect Flask to a SQL database\n",
    "#Ans: You typically connect Flask to a SQL database using an extension like Flask-SQLAlchemy, which simplifies database interactions by providing an ORM. You configure the database URI in your Flask app's configuration and then define database models as Python classes."
   ]
  },
  {
   "cell_type": "code",
   "execution_count": null,
   "id": "22fda00d-4228-4d06-9f7a-67dcbef2b3f8",
   "metadata": {},
   "outputs": [],
   "source": [
    "#Q11.What is the role of Flask-SQLAlchemy\n",
    "#Ans: Flask-SQLAlchemy is a Flask extension that simplifies the integration of SQLAlchemy, a powerful Python ORM, with your Flask application. It provides convenient utilities for configuring database connections, defining models, and performing database operations within your Flask app."
   ]
  },
  {
   "cell_type": "code",
   "execution_count": null,
   "id": "972f265b-06bf-41b3-a9ab-d4243772e784",
   "metadata": {},
   "outputs": [],
   "source": [
    "#Q12.What are Flask blueprints, and how are they useful\n",
    "#Ans:Flask blueprints are a way to organize a Flask application into reusable components, allowing you to modularize your code and register routes, templates, and static files within each blueprint. "
   ]
  },
  {
   "cell_type": "code",
   "execution_count": null,
   "id": "f64d01a3-506c-41ce-87f2-2e11d967a05d",
   "metadata": {},
   "outputs": [],
   "source": [
    "#Q13. What is the purpose of Flask's request object\n",
    "#Ans:The Flask request object provides access to incoming request data, such as form parameters, JSON data, headers, and files uploaded by the client. It allows your Flask routes to interact with the data sent by users or other applications making requests to your API."
   ]
  },
  {
   "cell_type": "code",
   "execution_count": null,
   "id": "54476f5c-6aef-4ccb-b812-bd16c86faee4",
   "metadata": {},
   "outputs": [],
   "source": [
    "#Q14. How do you create a RESTful API endpoint using Flask\n",
    "#Ans: This defines a route /api/resource that accepts both GET and POST requests, allowing you to retrieve or create resources, respectively, using the request and jsonify objects for handling data.\n",
    "from flask import Flask, request, jsonify\n",
    "@app.route('/api/resource', methods=['GET', 'POST'])"
   ]
  },
  {
   "cell_type": "code",
   "execution_count": null,
   "id": "1d9be40d-4a8c-4254-93ed-8834118d4b09",
   "metadata": {},
   "outputs": [],
   "source": [
    "#Q15.What is the purpose of Flask's jsonify() function\n",
    "#Ans: Flask's jsonify() function converts Python dictionaries and lists into JSON responses with the correct Content-Type header (application/json). This makes it easy to return structured data from your API endpoints in a format that web browsers and other applications can readily understand."
   ]
  },
  {
   "cell_type": "code",
   "execution_count": null,
   "id": "730468eb-05b7-4dc2-9793-fdd63033d6f0",
   "metadata": {},
   "outputs": [],
   "source": [
    "#Q16. Explain Flask’s url_for() function\n",
    "#Ans: Flask's url_for() function generates a URL to a specific endpoint (function) based on its name, rather than hardcoding the URL directly in your templates or code. This allows you to change URL routes without breaking links, improving maintainability."
   ]
  },
  {
   "cell_type": "code",
   "execution_count": null,
   "id": "26a59ffb-9f02-453f-b660-a3c014d6e84c",
   "metadata": {},
   "outputs": [],
   "source": [
    "#Q17. How does Flask handle static files (CSS, JavaScript, etc.)\n",
    "#Ans: Flask serves static files (like CSS, JavaScript, and images) from a folder named static in the same directory as your main application file by default"
   ]
  },
  {
   "cell_type": "code",
   "execution_count": null,
   "id": "46c64d6d-61b7-4a65-8f42-b3c4c93985e1",
   "metadata": {},
   "outputs": [],
   "source": [
    "#Q18.What is an API specification, and how does it help in building a Flask API\n",
    "#Ans: An API specification is a document (often using formats like OpenAPI/Swagger) that describes all the endpoints, request/response formats, and other details of an API. It helps in building a Flask API by providing a clear contract for both development and consumption, facilitating better communication, documentation, and automated code generation."
   ]
  },
  {
   "cell_type": "code",
   "execution_count": null,
   "id": "090fec29-4380-4bb7-a9be-cd6b9494eb04",
   "metadata": {},
   "outputs": [],
   "source": [
    "#Q19.What are HTTP status codes, and why are they important in a Flask API\n",
    "#Ans: HTTP status codes are three-digit server responses indicating request outcomes, crucial for Flask APIs to inform clients about success, errors, or other statuses for proper handling."
   ]
  },
  {
   "cell_type": "code",
   "execution_count": null,
   "id": "eb107d4a-e50e-4819-b898-4a50adf36fb4",
   "metadata": {},
   "outputs": [],
   "source": [
    "#Q20. How do you handle POST requests in Flask\n",
    "#Ans: Handle POST requests in Flask by defining a route with methods=['POST'] and accessing the request data using the request object within the associated function."
   ]
  },
  {
   "cell_type": "code",
   "execution_count": null,
   "id": "94d6e92d-ce3d-4ffc-854e-ed0c3f2122b6",
   "metadata": {},
   "outputs": [],
   "source": [
    "#Q21. How would you secure a Flask API\n",
    "#Ans: Secure a Flask API by implementing authentication and authorization, using HTTPS, sanitizing inputs, and protecting against common web vulnerabilities."
   ]
  },
  {
   "cell_type": "code",
   "execution_count": null,
   "id": "2d5fb679-dc87-4a39-9c2d-bd94d99be94b",
   "metadata": {},
   "outputs": [],
   "source": [
    "#Q22.  What is the significance of the Flask-RESTful extension\n",
    "#Ans: The Flask-RESTful extension simplifies building RESTful APIs in Flask by providing a structured way to define resources and their corresponding HTTP methods."
   ]
  },
  {
   "cell_type": "code",
   "execution_count": null,
   "id": "199fec26-8d0d-4cbe-ac0e-2b17f02fdb30",
   "metadata": {},
   "outputs": [],
   "source": [
    "#Q23.What is the role of Flask’s session object?\n",
    "#Ans: Flask's session object enables storing user-specific data across requests within a browser session using signed cookies."
   ]
  },
  {
   "cell_type": "code",
   "execution_count": null,
   "id": "a0e092dd-9f43-46c1-996c-ba90796f66d8",
   "metadata": {},
   "outputs": [],
   "source": [
    "#Practicle Question"
   ]
  },
  {
   "cell_type": "code",
   "execution_count": 6,
   "id": "2a7a51f8-4b3d-479e-8a7b-b2685d584c6e",
   "metadata": {},
   "outputs": [
    {
     "name": "stdout",
     "output_type": "stream",
     "text": [
      "Requirement already satisfied: flask in c:\\users\\asus\\appdata\\local\\programs\\python\\python311\\lib\\site-packages (3.1.0)\n",
      "Requirement already satisfied: Werkzeug>=3.1 in c:\\users\\asus\\appdata\\local\\programs\\python\\python311\\lib\\site-packages (from flask) (3.1.3)\n",
      "Requirement already satisfied: Jinja2>=3.1.2 in c:\\users\\asus\\appdata\\local\\programs\\python\\python311\\lib\\site-packages (from flask) (3.1.2)\n",
      "Requirement already satisfied: itsdangerous>=2.2 in c:\\users\\asus\\appdata\\local\\programs\\python\\python311\\lib\\site-packages (from flask) (2.2.0)\n",
      "Requirement already satisfied: click>=8.1.3 in c:\\users\\asus\\appdata\\local\\programs\\python\\python311\\lib\\site-packages (from flask) (8.1.7)\n",
      "Requirement already satisfied: blinker>=1.9 in c:\\users\\asus\\appdata\\local\\programs\\python\\python311\\lib\\site-packages (from flask) (1.9.0)\n",
      "Requirement already satisfied: colorama in c:\\users\\asus\\appdata\\local\\programs\\python\\python311\\lib\\site-packages (from click>=8.1.3->flask) (0.4.6)\n",
      "Requirement already satisfied: MarkupSafe>=2.0 in c:\\users\\asus\\appdata\\local\\programs\\python\\python311\\lib\\site-packages (from Jinja2>=3.1.2->flask) (2.1.3)\n",
      "Note: you may need to restart the kernel to use updated packages.\n"
     ]
    },
    {
     "name": "stderr",
     "output_type": "stream",
     "text": [
      "\n",
      "[notice] A new release of pip is available: 23.2.1 -> 25.0.1\n",
      "[notice] To update, run: python.exe -m pip install --upgrade pip\n"
     ]
    }
   ],
   "source": [
    "pip install flask"
   ]
  },
  {
   "cell_type": "code",
   "execution_count": 7,
   "id": "06a993f4-b294-484e-9d86-52839a883350",
   "metadata": {},
   "outputs": [
    {
     "name": "stdout",
     "output_type": "stream",
     "text": [
      " * Serving Flask app '__main__'\n",
      " * Debug mode: on\n"
     ]
    },
    {
     "name": "stderr",
     "output_type": "stream",
     "text": [
      "WARNING: This is a development server. Do not use it in a production deployment. Use a production WSGI server instead.\n",
      " * Running on http://127.0.0.1:5000\n",
      "Press CTRL+C to quit\n",
      " * Restarting with stat\n"
     ]
    },
    {
     "ename": "SystemExit",
     "evalue": "1",
     "output_type": "error",
     "traceback": [
      "An exception has occurred, use %tb to see the full traceback.\n",
      "\u001b[1;31mSystemExit\u001b[0m\u001b[1;31m:\u001b[0m 1\n"
     ]
    },
    {
     "name": "stderr",
     "output_type": "stream",
     "text": [
      "C:\\Users\\ASUS\\AppData\\Local\\Programs\\Python\\Python311\\Lib\\site-packages\\IPython\\core\\interactiveshell.py:3585: UserWarning: To exit: use 'exit', 'quit', or Ctrl-D.\n",
      "  warn(\"To exit: use 'exit', 'quit', or Ctrl-D.\", stacklevel=1)\n"
     ]
    }
   ],
   "source": [
    "#Q1.  How do you create a basic Flask application\n",
    "from flask import Flask\n",
    "app = Flask(__name__)\n",
    "\n",
    "@app.route('/')\n",
    "def home():\n",
    "    return 'Hello, Flask!'\n",
    "\n",
    "if __name__ == '__main__':\n",
    "    app.run(debug=True)"
   ]
  },
  {
   "cell_type": "code",
   "execution_count": 8,
   "id": "2601725e-f2bc-47e6-b6f7-acf9903bb1bb",
   "metadata": {},
   "outputs": [],
   "source": [
    "#Q2. How do you serve static files like images or CSS in Flask\n",
    "from flask import Flask, send_from_directory\n",
    "\n",
    "app = Flask(__name__, static_folder='static')\n",
    "\n",
    "@app.route('/static/<path:filename>')\n",
    "def serve_static(filename):\n",
    "    return send_from_directory(app.static_folder, filename)"
   ]
  },
  {
   "cell_type": "code",
   "execution_count": null,
   "id": "f23cf6f6-9bc3-49aa-bfe3-8ac4922e3987",
   "metadata": {},
   "outputs": [],
   "source": [
    "#Q3. How do you define different routes with different HTTP methods in Flask\n",
    "from flask import Flask\n",
    "app = Flask(__name__)\n",
    "\n",
    "@app.route('/greet', methods=['GET'])\n",
    "def greet():\n",
    "    return \"Hello World!\"\n",
    "\n",
    "if __name__ == '__main__':\n",
    "    app.run(debug=True)"
   ]
  },
  {
   "cell_type": "code",
   "execution_count": null,
   "id": "85db64eb-5734-4280-b033-f671ad770bb3",
   "metadata": {},
   "outputs": [],
   "source": [
    "#Q4.How do you render HTML templates in Flask\n",
    "from flask import Flask, render_template\n",
    "app = Flask(__name__)\n",
    "\n",
    "@app.route('/')\n",
    "def index():\n",
    "    return render_template('index.html')\n",
    "\n",
    "if __name__ == '__main__':\n",
    "    app.run(debug=True)"
   ]
  },
  {
   "cell_type": "code",
   "execution_count": null,
   "id": "f8f03c26-49da-4049-9824-0101746780d6",
   "metadata": {},
   "outputs": [],
   "source": [
    "#Q5. How can you generate URLs for routes in Flask using url_for?\n",
    "from flask import Flask, url_for\n",
    "app = Flask(__name__)\n",
    "\n",
    "@app.route('/home')\n",
    "def home():\n",
    "    return 'This is the home page.'\n",
    "\n",
    "@app.route('/')\n",
    "def index():\n",
    "    return f'<a href=\"{url_for(\"home\")}\">Go to Home</a>'\n",
    "\n",
    "if __name__ == '__main__':\n",
    "    app.run(debug=True)"
   ]
  },
  {
   "cell_type": "code",
   "execution_count": null,
   "id": "df992721-83c4-4114-bf25-bd93f8f6afef",
   "metadata": {},
   "outputs": [],
   "source": [
    "#Q6. How do you handle forms in Flask\n",
    "from flask import Flask, request, render_template\n",
    "app = Flask(__name__)\n",
    "\n",
    "@app.route('/submit', methods=['GET', 'POST'])\n",
    "def submit():\n",
    "    if request.method == 'POST':\n",
    "        name = request.form['name']\n",
    "        return f\"Hello {name}!\"\n",
    "    return render_template('form.html')\n",
    "\n",
    "if __name__ == '__main__':\n",
    "    app.run(debug=True)"
   ]
  },
  {
   "cell_type": "code",
   "execution_count": null,
   "id": "e926bc13-6bab-4945-bd33-bd524a307397",
   "metadata": {},
   "outputs": [],
   "source": [
    "#Q7. How can you validate form data in Flask\n",
    "from flask import Flask, request, flash, redirect, url_for\n",
    "app = Flask(__name__)\n",
    "app.secret_key = 'secret'\n",
    "\n",
    "@app.route('/login', methods=['POST'])\n",
    "def login():\n",
    "    username = request.form['username']\n",
    "    if not username:\n",
    "        flash('Username is required!')\n",
    "        return redirect(url_for('login'))\n",
    "    return 'Login successful'\n",
    "\n",
    "if __name__ == '__main__':\n",
    "    app.run(debug=True)"
   ]
  },
  {
   "cell_type": "code",
   "execution_count": null,
   "id": "015372d7-f40f-431f-a463-8774ca0c0b0d",
   "metadata": {},
   "outputs": [],
   "source": [
    "#Q8. How do you manage sessions in Flask\n",
    "from flask import Flask, session\n",
    "app = Flask(__name__)\n",
    "app.secret_key = 'secret'\n",
    "\n",
    "@app.route('/set_user')\n",
    "def set_user():\n",
    "    session['user'] = 'John'\n",
    "    return 'User set'\n",
    "\n",
    "@app.route('/get_user')\n",
    "def get_user():\n",
    "    return f'Logged in as {session.get(\"user\", \"Guest\")}'\n",
    "\n",
    "if __name__ == '__main__':\n",
    "    app.run(debug=True)"
   ]
  },
  {
   "cell_type": "code",
   "execution_count": null,
   "id": "48ba4440-a231-4712-836e-48649660b401",
   "metadata": {},
   "outputs": [],
   "source": [
    "#Q9. How do you redirect to a different route in Flask\n",
    "from flask import Flask, redirect, url_for\n",
    "app = Flask(__name__)\n",
    "\n",
    "@app.route('/redirect_home')\n",
    "def redirect_home():\n",
    "    return redirect(url_for('home'))\n",
    "\n",
    "@app.route('/home')\n",
    "def home():\n",
    "    return 'This is the home page.'\n",
    "\n",
    "if __name__ == '__main__':\n",
    "    app.run(debug=True)"
   ]
  },
  {
   "cell_type": "code",
   "execution_count": null,
   "id": "2038286e-0835-4420-94ce-5473923f3a25",
   "metadata": {},
   "outputs": [],
   "source": [
    "#Q10.How do you handle errors in Flask (e.g., 404)\n",
    "from flask import Flask\n",
    "app = Flask(__name__)\n",
    "\n",
    "@app.errorhandler(404)\n",
    "def page_not_found(e):\n",
    "    return 'Page not found', 404\n",
    "\n",
    "@app.route('/')\n",
    "def home():\n",
    "    return 'Welcome to the home page.'\n",
    "\n",
    "if __name__ == '__main__':\n",
    "    app.run(debug=True)"
   ]
  },
  {
   "cell_type": "code",
   "execution_count": null,
   "id": "3ff5f231-c68b-454e-9b2c-1ed4f9090ff6",
   "metadata": {},
   "outputs": [],
   "source": [
    "#Q11.How do you structure a Flask app using Blueprints\n",
    "from flask import Flask, Blueprint\n",
    "app = Flask(__name__)\n",
    "\n",
    "bp = Blueprint('home', __name__)\n",
    "\n",
    "@bp.route('/')\n",
    "def index():\n",
    "    return 'Home Page'\n",
    "\n",
    "app.register_blueprint(bp)\n",
    "\n",
    "if __name__ == '__main__':\n",
    "    app.run(debug=True)"
   ]
  },
  {
   "cell_type": "code",
   "execution_count": null,
   "id": "7f22d190-0350-4413-9027-36131e66c09e",
   "metadata": {},
   "outputs": [],
   "source": [
    "#Q12.How do you define a custom Jinja filter in Flask\n",
    "from flask import Flask\n",
    "app = Flask(__name__)\n",
    "\n",
    "@app.template_filter('reverse')\n",
    "def reverse_filter(s):\n",
    "    return s[::-1]\n",
    "\n",
    "@app.route('/')\n",
    "def home():\n",
    "    return render_template('home.html', name='Flask')\n",
    "\n",
    "if __name__ == '__main__':\n",
    "    app.run(debug=True)"
   ]
  },
  {
   "cell_type": "code",
   "execution_count": null,
   "id": "62a7daa4-f698-42dc-8284-4bfeee2694e1",
   "metadata": {},
   "outputs": [],
   "source": [
    "#Q13. How can you redirect with query parameters in Flask?\n",
    "from flask import Flask, redirect, url_for\n",
    "app = Flask(__name__)\n",
    "\n",
    "@app.route('/redirect_with_query')\n",
    "def redirect_with_query():\n",
    "    return redirect(url_for('home', username='John'))\n",
    "\n",
    "@app.route('/home')\n",
    "def home():\n",
    "    return f'Welcome, {request.args.get(\"username\")}'\n",
    "\n",
    "if __name__ == '__main__':\n",
    "    app.run(debug=True)"
   ]
  },
  {
   "cell_type": "code",
   "execution_count": null,
   "id": "a631a936-4013-48e8-9e91-ff0726d28907",
   "metadata": {},
   "outputs": [],
   "source": [
    "#Q14.How do you return JSON responses in Flask\n",
    "from flask import Flask, jsonify\n",
    "app = Flask(__name__)\n",
    "\n",
    "@app.route('/data')\n",
    "def data():\n",
    "    return jsonify({\"name\": \"Flask\", \"version\": \"2.0\"})\n",
    "\n",
    "if __name__ == '__main__':\n",
    "    app.run(debug=True)"
   ]
  },
  {
   "cell_type": "code",
   "execution_count": null,
   "id": "c060ce64-c7f9-4ff1-bc3f-7ab41bf78496",
   "metadata": {},
   "outputs": [],
   "source": [
    "#Q15. How do you capture URL parameters in Flask?\n",
    "from flask import Flask\n",
    "app = Flask(__name__)\n",
    "\n",
    "@app.route('/user/<username>')\n",
    "def user(username):\n",
    "    return f\"Hello {username}!\"\n",
    "\n",
    "if __name__ == '__main__':\n",
    "    app.run(debug=True)"
   ]
  },
  {
   "cell_type": "code",
   "execution_count": null,
   "id": "5e8ab7fc-6a1f-476f-b979-a9c7569a7909",
   "metadata": {},
   "outputs": [],
   "source": []
  }
 ],
 "metadata": {
  "kernelspec": {
   "display_name": "Python 3 (ipykernel)",
   "language": "python",
   "name": "python3"
  },
  "language_info": {
   "codemirror_mode": {
    "name": "ipython",
    "version": 3
   },
   "file_extension": ".py",
   "mimetype": "text/x-python",
   "name": "python",
   "nbconvert_exporter": "python",
   "pygments_lexer": "ipython3",
   "version": "3.11.5"
  }
 },
 "nbformat": 4,
 "nbformat_minor": 5
}
